{
 "cells": [
  {
   "cell_type": "markdown",
   "metadata": {},
   "source": [
    "# Split the data into training (80%) and testing (20%)"
   ]
  },
  {
   "cell_type": "code",
   "execution_count": 2,
   "metadata": {},
   "outputs": [],
   "source": [
    "import pickle\n",
    "import pandas as pd\n",
    "import numpy as np\n",
    "from sklearn.model_selection import train_test_split\n",
    "\n",
    "file_to_read = open(\"../all_featuresv2.pickle\", \"rb\")\n",
    "loaded_features = pickle.load(file_to_read)\n",
    "file_to_read.close()\n",
    "\n",
    "file_to_read = open(\"../all_labelv2.pickle\", \"rb\")\n",
    "loaded_labels = pickle.load(file_to_read)\n",
    "file_to_read.close()\n",
    "\n",
    "all_training_features = []\n",
    "all_training_labels = []\n",
    "all_testing_features = []\n",
    "all_testing_labels = []\n",
    "\n",
    "idx = 0\n",
    "for feature in loaded_features:\n",
    "    df_feature = pd.DataFrame(feature)\n",
    "    df_feature[154].replace({np.inf: 3840}, inplace=True)\n",
    "    df_feature[155].replace({np.inf: 3840}, inplace=True)\n",
    "    df_feature[156].replace({np.inf: 3840}, inplace=True)\n",
    "    df_feature = df_feature.reset_index(drop=True)\n",
    "    \n",
    "    new_features = df_feature\n",
    "    new_label = pd.DataFrame(loaded_labels[idx])\n",
    "    \n",
    "    x_train, x_test, y_train, y_test = train_test_split(new_features, new_label, test_size=0.20)\n",
    "    file_to_store = open(\"features/training_features\"+str(idx)+\".pickle\", \"wb\")\n",
    "    pickle.dump(x_train, file_to_store)\n",
    "    file_to_store.close()\n",
    "\n",
    "    file_to_store = open(\"features/training_labels\"+str(idx)+\".pickle\", \"wb\")\n",
    "    pickle.dump(y_train, file_to_store)\n",
    "    file_to_store.close()\n",
    "\n",
    "    file_to_store = open(\"features/testing_features\"+str(idx)+\".pickle\", \"wb\")\n",
    "    pickle.dump(x_test, file_to_store)\n",
    "    file_to_store.close()\n",
    "\n",
    "    file_to_store = open(\"features/testing_labels\"+str(idx)+\".pickle\", \"wb\")\n",
    "    pickle.dump(y_test, file_to_store)\n",
    "    file_to_store.close()\n",
    "\n",
    "    all_training_features.append(x_train)\n",
    "    all_training_labels.append(y_train)\n",
    "    all_testing_features.append(x_test)\n",
    "    all_testing_labels.append(y_test)\n",
    "    \n",
    "    idx = idx+1\n",
    "\n",
    "file_to_store = open(\"features/all_training_features.pickle\", \"wb\")\n",
    "pickle.dump(all_training_features, file_to_store)\n",
    "file_to_store.close()\n",
    "\n",
    "file_to_store = open(\"features/all_training_labels.pickle\", \"wb\")\n",
    "pickle.dump(all_training_labels, file_to_store)\n",
    "file_to_store.close()\n",
    "\n",
    "file_to_store = open(\"features/all_testing_features.pickle\", \"wb\")\n",
    "pickle.dump(all_testing_features, file_to_store)\n",
    "file_to_store.close()\n",
    "\n",
    "file_to_store = open(\"features/all_testing_labels.pickle\", \"wb\")\n",
    "pickle.dump(all_testing_labels, file_to_store)\n",
    "file_to_store.close()"
   ]
  }
 ],
 "metadata": {
  "kernelspec": {
   "display_name": "Python 3",
   "language": "python",
   "name": "python3"
  },
  "language_info": {
   "codemirror_mode": {
    "name": "ipython",
    "version": 3
   },
   "file_extension": ".py",
   "mimetype": "text/x-python",
   "name": "python",
   "nbconvert_exporter": "python",
   "pygments_lexer": "ipython3",
   "version": "3.7.4"
  }
 },
 "nbformat": 4,
 "nbformat_minor": 2
}

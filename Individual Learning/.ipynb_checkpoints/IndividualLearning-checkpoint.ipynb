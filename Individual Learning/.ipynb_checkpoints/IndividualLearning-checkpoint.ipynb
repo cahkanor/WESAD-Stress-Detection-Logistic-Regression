{
 "cells": [
  {
   "cell_type": "code",
   "execution_count": 1,
   "metadata": {},
   "outputs": [
    {
     "ename": "NameError",
     "evalue": "name 'f' is not defined",
     "output_type": "error",
     "traceback": [
      "\u001b[1;31m---------------------------------------------------------------------------\u001b[0m",
      "\u001b[1;31mNameError\u001b[0m                                 Traceback (most recent call last)",
      "\u001b[1;32m<ipython-input-1-1674d4c3feb9>\u001b[0m in \u001b[0;36m<module>\u001b[1;34m\u001b[0m\n\u001b[0;32m     26\u001b[0m \u001b[1;32mwith\u001b[0m \u001b[0mopen\u001b[0m\u001b[1;33m(\u001b[0m\u001b[0moutput_name\u001b[0m\u001b[1;33m,\u001b[0m \u001b[1;34m'a'\u001b[0m\u001b[1;33m,\u001b[0m\u001b[0mnewline\u001b[0m\u001b[1;33m=\u001b[0m\u001b[1;34m''\u001b[0m\u001b[1;33m,\u001b[0m \u001b[0mencoding\u001b[0m\u001b[1;33m=\u001b[0m\u001b[1;34m'utf-8'\u001b[0m\u001b[1;33m)\u001b[0m \u001b[1;32mas\u001b[0m \u001b[0mcsvFile\u001b[0m\u001b[1;33m:\u001b[0m\u001b[1;33m\u001b[0m\u001b[1;33m\u001b[0m\u001b[0m\n\u001b[0;32m     27\u001b[0m     \u001b[1;31m# create the csv writer\u001b[0m\u001b[1;33m\u001b[0m\u001b[1;33m\u001b[0m\u001b[1;33m\u001b[0m\u001b[0m\n\u001b[1;32m---> 28\u001b[1;33m     \u001b[0mwriter\u001b[0m \u001b[1;33m=\u001b[0m \u001b[0mcsv\u001b[0m\u001b[1;33m.\u001b[0m\u001b[0mwriter\u001b[0m\u001b[1;33m(\u001b[0m\u001b[0mf\u001b[0m\u001b[1;33m)\u001b[0m\u001b[1;33m\u001b[0m\u001b[1;33m\u001b[0m\u001b[0m\n\u001b[0m\u001b[0;32m     29\u001b[0m     \u001b[1;31m# append a row to the csv file\u001b[0m\u001b[1;33m\u001b[0m\u001b[1;33m\u001b[0m\u001b[1;33m\u001b[0m\u001b[0m\n\u001b[0;32m     30\u001b[0m     \u001b[0mwriter\u001b[0m\u001b[1;33m.\u001b[0m\u001b[0mwriterow\u001b[0m\u001b[1;33m(\u001b[0m\u001b[1;33m[\u001b[0m\u001b[1;34m'subject_number'\u001b[0m\u001b[1;33m,\u001b[0m \u001b[1;34m'acc'\u001b[0m\u001b[1;33m,\u001b[0m \u001b[1;34m'prec'\u001b[0m\u001b[1;33m,\u001b[0m \u001b[1;34m'rec'\u001b[0m\u001b[1;33m,\u001b[0m \u001b[1;34m'f1'\u001b[0m\u001b[1;33m]\u001b[0m\u001b[1;33m)\u001b[0m\u001b[1;33m\u001b[0m\u001b[1;33m\u001b[0m\u001b[0m\n",
      "\u001b[1;31mNameError\u001b[0m: name 'f' is not defined"
     ]
    }
   ],
   "source": [
    "import numpy as np\n",
    "import matplotlib.pyplot as plt\n",
    "from sklearn.pipeline import Pipeline\n",
    "import pandas as pd\n",
    "import csv\n",
    "import pickle\n",
    "\n",
    "from sklearn.linear_model import LogisticRegression\n",
    "\n",
    "from sklearn.model_selection import GridSearchCV\n",
    "from sklearn.metrics import precision_recall_fscore_support, precision_score, recall_score, accuracy_score, f1_score\n",
    "from sklearn.metrics import confusion_matrix\n",
    "from sklearn.model_selection import cross_val_score, cross_validate, cross_val_predict\n",
    "\n",
    "model = LogisticRegression()\n",
    "\n",
    "all_trained_models = []\n",
    "\n",
    "all_score = []\n",
    "\n",
    "all_training_index = []\n",
    "all_testing_index = []\n",
    "\n",
    "output_name = 'result_individual.csv' \n",
    "\n",
    "with open(output_name, 'a',newline='', encoding='utf-8') as csvFile:\n",
    "    # create the csv writer\n",
    "    writer = csv.writer(csvFile)\n",
    "    # append a row to the csv file\n",
    "    writer.writerow(['subject_number', 'acc', 'prec', 'rec', 'f1'])\n",
    "\n",
    "for idx in range(15):\n",
    "    file_to_read = open(\"features/training_features\"+str(idx)+\".pickle\", \"rb\")\n",
    "    X_train = pickle.load(file_to_read)\n",
    "    file_to_read.close()\n",
    "\n",
    "    file_to_read = open(\"features/training_labels\"+str(idx)+\".pickle\", \"rb\")\n",
    "    y_train = pickle.load(file_to_read)\n",
    "    file_to_read.close()\n",
    "    \n",
    "    file_to_read = open(\"features/testing_features\"+str(idx)+\".pickle\", \"rb\")\n",
    "    X_test = pickle.load(file_to_read)\n",
    "    file_to_read.close()\n",
    "\n",
    "    file_to_read = open(\"features/testing_labels\"+str(idx)+\".pickle\", \"rb\")\n",
    "    y_test = pickle.load(file_to_read)\n",
    "    file_to_read.close()\n",
    "\n",
    "    \n",
    "    model.fit(X_train, y_train)\n",
    "    print(idx)\n",
    "    y_pred = model.predict(X_test)\n",
    "    acc=accuracy_score(y_test, y_pred)\n",
    "    prec=precision_score(y_test, y_pred, pos_label=2)\n",
    "    rec=recall_score(y_test, y_pred, pos_label=2)\n",
    "    f1=f1_score(y_test, y_pred, pos_label=2)\n",
    "    print(acc, prec, rec, f1)\n",
    "\n",
    "    # open the file in the append mode\n",
    "    with open(output_name, 'a',newline='', encoding='utf-8') as csvFile:\n",
    "        # create the csv writer\n",
    "        writer = csv.writer(csvFile)\n",
    "        # append a row to the csv file\n",
    "        writer.writerow([idx, acc, prec, rec, f1])\n",
    "    "
   ]
  },
  {
   "cell_type": "code",
   "execution_count": null,
   "metadata": {},
   "outputs": [],
   "source": []
  }
 ],
 "metadata": {
  "kernelspec": {
   "display_name": "Python 3",
   "language": "python",
   "name": "python3"
  },
  "language_info": {
   "codemirror_mode": {
    "name": "ipython",
    "version": 3
   },
   "file_extension": ".py",
   "mimetype": "text/x-python",
   "name": "python",
   "nbconvert_exporter": "python",
   "pygments_lexer": "ipython3",
   "version": "3.7.4"
  }
 },
 "nbformat": 4,
 "nbformat_minor": 2
}
